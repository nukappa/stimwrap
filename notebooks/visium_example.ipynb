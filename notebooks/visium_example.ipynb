{
  "cells": [
    {
      "cell_type": "markdown",
      "metadata": {
        "id": "fTshO_iT83Tp"
      },
      "source": [
        "## Aligning serial sections of adult mouse brain (10x Visium)\n",
        "\n",
        "In this notebook, we will illustrate how to perform the alignment of 2 serial sections from a Visium (10x) mouse brain example dataset."
      ]
    },
    {
      "cell_type": "markdown",
      "metadata": {
        "id": "6wZmv5Dx83Ts"
      },
      "source": [
        "### Prerequisites\n",
        "\n",
        "First of all, you must have a Python environment with [ipykernel](https://ipython.readthedocs.io/en/stable/install/kernel_install.html) for running this notebook, or [Jupyter](https://jupyter.org/).\n",
        "\n",
        "Alternatively, you can run this notebook in [Google Colab]()."
      ]
    },
    {
      "cell_type": "markdown",
      "metadata": {
        "id": "yoEMXjVh83Tt"
      },
      "source": [
        "### Installing dependencies"
      ]
    },
    {
      "cell_type": "markdown",
      "metadata": {
        "id": "q9l4LqxYzTBZ"
      },
      "source": [
        "We will install STIM (both the Java-based components, and the Python bindings), as well as other dependencies that might be useful for later downstream analysis (i.e., `scanpy`)"
      ]
    },
    {
      "cell_type": "code",
      "execution_count": null,
      "metadata": {
        "colab": {
          "base_uri": "https://localhost:8080/"
        },
        "id": "ASWZIRQk87ba",
        "outputId": "e6c27dc1-8432-4caa-decf-3a5d14602e8a"
      },
      "outputs": [],
      "source": [
        "if 'google.colab' in str(get_ipython()):\n",
        "  !apt-get install openjdk-8-jdk maven\n",
        "  !git clone https://github.com/PreibischLab/stim.git\n",
        "  !cd stim && ./install.sh -i ./bin\n",
        "  !pip install stimwrap\n",
        "  !pip install scanpy\n",
        "else:\n",
        "  !conda install -c conda-forge stim\n",
        "  !pip install stimwrap\n",
        "  !pip install scanpy"
      ]
    },
    {
      "cell_type": "markdown",
      "metadata": {
        "id": "pWMk7snq83Tu"
      },
      "source": [
        "### Downloading the data"
      ]
    },
    {
      "cell_type": "markdown",
      "metadata": {
        "id": "CJt9-X62zMzF"
      },
      "source": [
        "We will download the zip file containing the Visium data. These example data is available at [Google Drive](https://drive.google.com/file/d/1qzzu4LmRukHBvbx_hiN2FOmIladiT7xx/view). With the code below, we will automatically download it."
      ]
    },
    {
      "cell_type": "code",
      "execution_count": null,
      "metadata": {
        "colab": {
          "base_uri": "https://localhost:8080/"
        },
        "id": "FQafTF5HwX_n",
        "outputId": "3784a9f2-936f-4d46-d3e6-f53ab6cfeea2"
      },
      "outputs": [],
      "source": [
        "!pip install gdown"
      ]
    },
    {
      "cell_type": "code",
      "execution_count": null,
      "metadata": {
        "colab": {
          "base_uri": "https://localhost:8080/",
          "height": 122
        },
        "id": "jQAXjcFm83Tw",
        "outputId": "ba7b194f-be8e-47ea-9a61-2be9e6587e18"
      },
      "outputs": [],
      "source": [
        "import gdown\n",
        "\n",
        "# a file\n",
        "url = \"https://drive.google.com/uc?id=1qzzu4LmRukHBvbx_hiN2FOmIladiT7xx\"\n",
        "output = \"visium.zip\"\n",
        "gdown.download(url, output)"
      ]
    },
    {
      "cell_type": "markdown",
      "metadata": {
        "id": "efOTMQoa83T0"
      },
      "source": [
        "Downloading (and decompressing) the whole dataset should take takes < 1 minute with a ~200Mbps internet connection."
      ]
    },
    {
      "cell_type": "markdown",
      "metadata": {
        "id": "P8UYJ9Jj83T0"
      },
      "source": [
        "### Importing `stimwrap`"
      ]
    },
    {
      "cell_type": "markdown",
      "metadata": {
        "id": "tnLaGDsSzJnL"
      },
      "source": [
        "In general, `STIM` is a console-based tool.\n",
        "\n",
        "However, when running your analysis in the `Python` ecosystem (like here), you can transparently run `STIM` from `Python` by leveraging the wrapper `stimwrap`.\n",
        "\n",
        "`stimwrap` provides bindings for all commands, and additional tools for data preprocessing and conversion prior to downstream analysis."
      ]
    },
    {
      "cell_type": "code",
      "execution_count": null,
      "metadata": {
        "id": "ue9tsdEO83T1"
      },
      "outputs": [],
      "source": [
        "import stimwrap as st"
      ]
    },
    {
      "cell_type": "code",
      "execution_count": null,
      "metadata": {
        "colab": {
          "base_uri": "https://localhost:8080/",
          "height": 36
        },
        "id": "GQokJ0Cs_nIJ",
        "outputId": "6273030d-7941-4240-ed24-2969c0ca5b92"
      },
      "outputs": [],
      "source": [
        "# specifically in Google Colab\n",
        "st.set_bin_path(\"./stim/bin\")"
      ]
    },
    {
      "cell_type": "markdown",
      "metadata": {
        "id": "w0QofqFh83T1"
      },
      "source": [
        "### Creating a N5 container"
      ]
    },
    {
      "cell_type": "markdown",
      "metadata": {
        "id": "jfUcQY6wzGwU"
      },
      "source": [
        "STIM requires that all sections are resaved into a single N5 container, a single directory containing all data (spatial expression values), metadata (cell annotations), and the output from STIM registration (landmarks, transformation matrices)."
      ]
    },
    {
      "cell_type": "code",
      "execution_count": null,
      "metadata": {
        "colab": {
          "base_uri": "https://localhost:8080/"
        },
        "id": "gWPs2FtJsVzD",
        "outputId": "a8095094-792e-4fa1-f44f-8361cf0a86b0"
      },
      "outputs": [],
      "source": [
        "container_path = \"./visium.n5\"\n",
        "sections = ['slice1.h5ad', 'slice2.h5ad']\n",
        "sections_numbers = [1, 2] # for later setting the Z coordinates\n",
        "\n",
        "st.resave(input=\"visium.zip/section1_locations.csv,visium.zip/section1_reads.csv,slice1.h5ad\", container=container_path)\n",
        "st.resave(input=\"visium.zip/section2_locations.csv,visium.zip/section2_reads.csv,slice2.h5ad\", container=container_path)"
      ]
    },
    {
      "cell_type": "markdown",
      "metadata": {
        "id": "zPJIw76i83T4"
      },
      "source": [
        "### Pairwise registration"
      ]
    },
    {
      "cell_type": "markdown",
      "metadata": {
        "id": "IqFIseH9zD6K"
      },
      "source": [
        "As indicated in its name, STIM will handle ST data as images. These are multi-channel images where the XY dimensions can be specified by a scaling factor (e.g., 1:1 to map 1 pixel to 1 ST unit), and the channels are genes.\n",
        "\n",
        "During pairwise registration, STIM will automatically find corresponding points between pairs of sections for a subset of genes, and keep those with _high quality/agreement_ across all genes for a pair of sections. This is required prior to assembling a global alignment model (when more than 2 sections are provided).\n",
        "\n",
        "A subset of genes is used to avoid registering with all genes (in sequencing-based ST, this can lead to ~30,000 channels). This might be too time-consuming, and also most genes do not have sufficient information to render images with spatial patterns that can be used for feature detection (sparsity problem). By default, STIM detects genes with highest variance as a proxy for genes that might show suitable spatial patterns. Otherwise, the user can specify a set of genes used to render images for pairwise alignment. In this tutorial, we use STIM for computing these variability metrics."
      ]
    },
    {
      "cell_type": "code",
      "execution_count": null,
      "metadata": {
        "colab": {
          "base_uri": "https://localhost:8080/"
        },
        "id": "qrmRRJwi83T5",
        "outputId": "b3223b7a-b7eb-4ba8-ab62-ff62bd852579"
      },
      "outputs": [],
      "source": [
        "st.align_pairs(container=container_path,\n",
        "               num_genes = 10,\n",
        "               skip = 10,\n",
        "               max_epsilon = 0,\n",
        "               range = 2,\n",
        "               scale = 0.05, # recommended for Visium data\n",
        "               num_threads = 2) # you can adapt depending on your Colab"
      ]
    },
    {
      "cell_type": "markdown",
      "metadata": {
        "id": "J6XNORjm83T5"
      },
      "source": [
        "**Importantly**, if you try to run pairwise alignment more than once, you need to specify the argument `overwrite=True` when calling `st.align_pairs`.\n",
        "\n",
        "Otherwise, `STIM` assumes that pairwise alignment was performed and will exit."
      ]
    },
    {
      "cell_type": "markdown",
      "metadata": {
        "id": "4cbpYKOh83T6"
      },
      "source": [
        "### Visualization of results (**not in Google Colab!!!!**)"
      ]
    },
    {
      "cell_type": "markdown",
      "metadata": {
        "id": "R9lV5rMWyZFc"
      },
      "source": [
        "It is good practice to manually assess the results of pairwise alignment before proceeding or using these data for analysis, as the set of parameters used for registration might have not been suitable for the data at hand. Some reasons leading to poor alignment might be:\n",
        "\n",
        "- Poor selection of the subset of genes used for alignment\n",
        "- Scale (or render factor) parameter too large or too small\n",
        "- Poor selection of alignment error (`--maxEpsilon`) parameter\n",
        "- Data is too noisy and might need some filtering (e.g., with `--ffMedian` or `--ffSingleSpot`)\n",
        "\n",
        "STIM provides GUI-based tools to interactively assess the result from pairwise alignment:"
      ]
    },
    {
      "cell_type": "code",
      "execution_count": null,
      "metadata": {
        "id": "WHoDp-Dp83T6"
      },
      "outputs": [],
      "source": [
        "st.explorer(input=container_path,\n",
        "            datasets=sections)"
      ]
    },
    {
      "cell_type": "markdown",
      "metadata": {
        "id": "HZGlSgJp83T6"
      },
      "source": [
        "Alternatively, you can use an interactive pairwise alignment tool to find suitable parameters, iteratively"
      ]
    },
    {
      "cell_type": "code",
      "execution_count": null,
      "metadata": {
        "id": "0WuFaTlo83T7"
      },
      "outputs": [],
      "source": [
        "st.align_interactive(container=container_path,\n",
        "                     section_a=sections[0],\n",
        "                     section_b=sections[1])"
      ]
    },
    {
      "cell_type": "markdown",
      "metadata": {
        "id": "qHDWGc_D83T7"
      },
      "source": [
        "To run the interactive alignment via `st.align_interactive` or `st.explorer`,\n",
        "make sure you are running this notebook in a computer with a graphical environment, or\n",
        "that you are doing redirection of the window server (e.g., X11 redirection via `ssh -X ...`).\n",
        "\n",
        "You can learn more about this [here](https://goteleport.com/blog/x11-forwarding/)."
      ]
    },
    {
      "cell_type": "markdown",
      "metadata": {
        "id": "8YxL6v_b83T7"
      },
      "source": [
        "### Global alignment"
      ]
    },
    {
      "cell_type": "markdown",
      "metadata": {
        "id": "wlfTmMG6zBPx"
      },
      "source": [
        "Once you are satisfied with the results from the pairwise alignment of pairs of sections, you can proceed with the global alignment.\n",
        "\n",
        "This last step optimizes a global model taking into account all pairs of keypoints.\n",
        "\n",
        "This reduces error propagation across sections, which might lead to very large distortions in the reconstruction."
      ]
    },
    {
      "cell_type": "code",
      "execution_count": null,
      "metadata": {
        "id": "pYfCaqpU83T7"
      },
      "outputs": [],
      "source": [
        "st.align_global(container=container_path,\n",
        "                skip_icp=True)"
      ]
    },
    {
      "cell_type": "markdown",
      "metadata": {
        "id": "IMdhhhII83T8"
      },
      "source": [
        "### Visualization of results (**not in Google Colab!!!!**)"
      ]
    },
    {
      "cell_type": "markdown",
      "metadata": {
        "id": "aM3xQ7Gay46C"
      },
      "source": [
        "Similarly as before, it is good practice to visualize the results after the global alignment procedure.\n",
        "\n",
        "STIM can leverage `BigDataViewer` for 3D visualization of these data:"
      ]
    },
    {
      "cell_type": "code",
      "execution_count": null,
      "metadata": {
        "id": "uU5u6gO883T8"
      },
      "outputs": [],
      "source": [
        "st.bdv_view3d(input=container_path,\n",
        "              genes=['Calm2', 'Mbp'])"
      ]
    },
    {
      "cell_type": "markdown",
      "metadata": {
        "id": "o6V2KiXj83T8"
      },
      "source": [
        "To run `BigDataViewer`, similarly to above, make sure you are running this notebook in a\n",
        "computer with a graphical environment, or that you are doing redirection of the window server\n",
        "(e.g., X11 redirection via `ssh -X ...`)."
      ]
    },
    {
      "cell_type": "markdown",
      "metadata": {
        "id": "qo78E7y383T9"
      },
      "source": [
        "### Storing the 3D coordinates in `AnnData`"
      ]
    },
    {
      "cell_type": "markdown",
      "metadata": {
        "id": "fFfvex-0y8Xs"
      },
      "source": [
        "Prior to analysing these objects with `scanpy` or other tools from the `scverse` ecosystem, you can apply the transformation model\n",
        "and store the transformed 3D coordinates as a new layer in the `AnnData` (or `N5`) objects."
      ]
    },
    {
      "cell_type": "code",
      "execution_count": null,
      "metadata": {
        "colab": {
          "base_uri": "https://localhost:8080/"
        },
        "id": "yvan0QSy83T9",
        "outputId": "c43d8d08-7c41-408d-8248-c3da8f652fcc"
      },
      "outputs": [],
      "source": [
        "# load N5 container with stimwrap\n",
        "container = st.Container(container_path)"
      ]
    },
    {
      "cell_type": "code",
      "execution_count": null,
      "metadata": {
        "id": "_oWQY1mb83T9"
      },
      "outputs": [],
      "source": [
        "# iterate over datasets and apply the computed transformation\n",
        "for z_axis, dataset_name in zip(sections_numbers, container.get_dataset_names()):\n",
        "    with container.get_dataset(dataset_name, mode=\"r+\") as dataset:\n",
        "        dataset.apply_save_transform(transformation=\"transform\",\n",
        "                                     locations='spatial',\n",
        "                                     destination='spatial_transform_sift',\n",
        "                                     z_coord=z_axis)"
      ]
    },
    {
      "cell_type": "markdown",
      "metadata": {
        "id": "EymS0-cx83T-"
      },
      "source": [
        "### Demo: interoperability with `scanpy`"
      ]
    },
    {
      "cell_type": "markdown",
      "metadata": {
        "id": "NvntZu8Ay-uA"
      },
      "source": [
        "Here, we showcase the interoperability of STIM (via `AnnData`-backed N5) by plotting genes and running some data processing with `scanpy`.\n",
        "\n",
        "First of all, you can create a single `AnnData` object that can be loaded at once with `scanpy` (all cells in the same file)."
      ]
    },
    {
      "cell_type": "code",
      "execution_count": null,
      "metadata": {
        "id": "uVuhBlfY83T-"
      },
      "outputs": [],
      "source": [
        "import scanpy as sc"
      ]
    },
    {
      "cell_type": "code",
      "execution_count": null,
      "metadata": {
        "id": "0SIgoH7J83T-"
      },
      "outputs": [],
      "source": [
        "import anndata as ad\n",
        "import os\n",
        "\n",
        "adata_concatenated = ad.concat([ad.read_h5ad(os.path.join(\"visium.n5\", adata_path)) for adata_path in sections], join='inner', index_unique=\"_\")\n",
        "adata_concatenated.write_h5ad(\"./mouse_visium_aligned.h5ad\")"
      ]
    },
    {
      "cell_type": "markdown",
      "metadata": {
        "id": "Y6pc4kaC83T_"
      },
      "source": [
        "##### Note\n",
        "\n",
        "If you get errors in the cell above because of `__DATA_TYPES__` or because of `column-order`, run the following command:"
      ]
    },
    {
      "cell_type": "code",
      "execution_count": null,
      "metadata": {
        "colab": {
          "base_uri": "https://localhost:8080/"
        },
        "id": "MPAkqIOy83T_",
        "outputId": "0d9f25c1-db6f-4ca8-f084-c01f7002ca6d"
      },
      "outputs": [],
      "source": [
        "# run if necessary (comment out line below)\n",
        "# container.cleanup_container()"
      ]
    },
    {
      "cell_type": "markdown",
      "metadata": {
        "id": "7UvFlamx83T_"
      },
      "source": [
        "#### Plotting gene expression"
      ]
    },
    {
      "cell_type": "markdown",
      "metadata": {
        "id": "Tlxsbt1W83UA"
      },
      "source": [
        "We transpose the Z-axis coordinates for plotting with scanpy (from a different point of view)"
      ]
    },
    {
      "cell_type": "code",
      "execution_count": null,
      "metadata": {
        "id": "4nE_GtrY83UA"
      },
      "outputs": [],
      "source": [
        "adata_concatenated.obsm['spatial_transform_sift_plotting'] = adata_concatenated.obsm['spatial_transform_sift'][:, [2, 0, 1]]"
      ]
    },
    {
      "cell_type": "markdown",
      "metadata": {
        "id": "YaAyTaDn83UA"
      },
      "source": [
        "We use the `pl.embedding` function for faster plotting (also, axes are scaled to the same magnitude). One can alternatively use the `pl.spatial` function"
      ]
    },
    {
      "cell_type": "code",
      "execution_count": null,
      "metadata": {
        "id": "NKmdQwrG83UA"
      },
      "outputs": [],
      "source": [
        "sc.pl.embedding(adata_concatenated, color=['Calm2', 'Mbp'], projection='3d', size=1, basis='spatial_transform_sift_plotting', cmap='Reds')"
      ]
    },
    {
      "cell_type": "markdown",
      "metadata": {
        "id": "bRezApKp83UB"
      },
      "source": [
        "#### Plotting normalized gene expression"
      ]
    },
    {
      "cell_type": "markdown",
      "metadata": {
        "id": "Zah9UlTl83UB"
      },
      "source": [
        "In the plot above, raw counts are shown. As different sections had different sequencing depth, the intensities are not fully comparable.\n",
        "\n",
        "For improved visualization (and downstream analysis), we can normalize the values across sections. This follows the typical scanpy workflow."
      ]
    },
    {
      "cell_type": "code",
      "execution_count": null,
      "metadata": {
        "id": "7KeMApmk83UB"
      },
      "outputs": [],
      "source": [
        "# Filter and normalize\n",
        "sc.pp.calculate_qc_metrics(adata_concatenated, inplace=True)\n",
        "sc.pp.filter_cells(adata_concatenated, min_counts=250)\n",
        "sc.pp.filter_cells(adata_concatenated, max_counts=10000)\n",
        "sc.pp.normalize_total(adata_concatenated, inplace=True)\n",
        "sc.pp.log1p(adata_concatenated)"
      ]
    },
    {
      "cell_type": "markdown",
      "metadata": {
        "id": "LM2wEC-p83UB"
      },
      "source": [
        "Now we can plot again, which will show depth and log-normalized counts."
      ]
    },
    {
      "cell_type": "code",
      "execution_count": null,
      "metadata": {
        "id": "MZ2vH7PP83UB"
      },
      "outputs": [],
      "source": [
        "sc.pl.embedding(adata_concatenated, color=['Calm2', 'Mbp'], projection='3d', size=1, basis='spatial_transform_sift_plotting', cmap='Reds')"
      ]
    },
    {
      "cell_type": "markdown",
      "metadata": {
        "id": "j44GpTvs83UC"
      },
      "source": [
        "From here we can proceed with downstream analysis, like cell type clustering, differential expression, discovery of spatial features..."
      ]
    }
  ],
  "metadata": {
    "colab": {
      "provenance": []
    },
    "kernelspec": {
      "display_name": "stim_benchmark",
      "language": "python",
      "name": "python3"
    },
    "language_info": {
      "codemirror_mode": {
        "name": "ipython",
        "version": 3
      },
      "file_extension": ".py",
      "mimetype": "text/x-python",
      "name": "python",
      "nbconvert_exporter": "python",
      "pygments_lexer": "ipython3",
      "version": "3.11.9"
    },
    "orig_nbformat": 4
  },
  "nbformat": 4,
  "nbformat_minor": 0
}
